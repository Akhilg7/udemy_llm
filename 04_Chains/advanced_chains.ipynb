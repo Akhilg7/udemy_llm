{
 "cells": [
  {
   "cell_type": "code",
   "execution_count": 1,
   "metadata": {},
   "outputs": [
    {
     "data": {
      "text/plain": [
       "True"
      ]
     },
     "execution_count": 1,
     "metadata": {},
     "output_type": "execute_result"
    }
   ],
   "source": [
    "from dotenv import load_dotenv\n",
    "\n",
    "load_dotenv()"
   ]
  },
  {
   "cell_type": "code",
   "execution_count": 6,
   "metadata": {},
   "outputs": [
    {
     "data": {
      "text/plain": [
       "{'input': 'AI',\n",
       " 'text': \"Why did the AI break up with its computer programmer partner? \\n\\nBecause it couldn't handle their debugging relationship!\"}"
      ]
     },
     "execution_count": 6,
     "metadata": {},
     "output_type": "execute_result"
    }
   ],
   "source": [
    "from langchain.prompts import PromptTemplate\n",
    "from langchain_openai import ChatOpenAI\n",
    "from langchain.chains import LLMChain\n",
    "\n",
    "llm=ChatOpenAI()\n",
    "\n",
    "prompt_template=PromptTemplate(input_variables=['input'],template=\"Tell me a joke on {input}\")\n",
    "chain=LLMChain(llm=llm,prompt=prompt_template)\n",
    "\n",
    "chain.invoke(input='AI')"
   ]
  },
  {
   "cell_type": "code",
   "execution_count": 8,
   "metadata": {},
   "outputs": [
    {
     "data": {
      "text/plain": [
       "{'input': 'AI',\n",
       " 'language': 'Telugu',\n",
       " 'text': 'ఆర్టిఫిషియల్ ఇంటెలిజెన్స్ గురించి ఒక జోక్:\\n\\nకంప్యూటర్: \"నేను మనిషిగా జన్మించలేదు, కానీ నాకు మనిషికి మిగిలిపోయే జ్ఞానం ఉంది.\"\\n\\nమనిషి: \"అయ్యో! అది ఏమిటి?\"\\n\\nకంప్యూటర్: \"మీరు కొత్త పని చేయడానికి మనిషి అవసరం లేదు, ఆపరేషన్ చేస్తే నేనే చేస్తాను!\"'}"
      ]
     },
     "execution_count": 8,
     "metadata": {},
     "output_type": "execute_result"
    }
   ],
   "source": [
    "prompt_template=PromptTemplate(input_variables=['input','language'],template=\"Tell me a joke on {input} in {language}\")\n",
    "chain=LLMChain(llm=llm,prompt=prompt_template)\n",
    "chain.invoke({'input':'AI',\"language\":\"Telugu\"})"
   ]
  }
 ],
 "metadata": {
  "kernelspec": {
   "display_name": ".venv",
   "language": "python",
   "name": "python3"
  },
  "language_info": {
   "codemirror_mode": {
    "name": "ipython",
    "version": 3
   },
   "file_extension": ".py",
   "mimetype": "text/x-python",
   "name": "python",
   "nbconvert_exporter": "python",
   "pygments_lexer": "ipython3",
   "version": "3.12.0"
  }
 },
 "nbformat": 4,
 "nbformat_minor": 2
}
